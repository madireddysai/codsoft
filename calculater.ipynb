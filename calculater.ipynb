{
 "cells": [
  {
   "cell_type": "code",
   "execution_count": 1,
   "id": "65d40bcc",
   "metadata": {},
   "outputs": [
    {
     "name": "stdout",
     "output_type": "stream",
     "text": [
      "Please select the operation.\n",
      "a. Addition\n",
      "b. Subtraction\n",
      "c. Multiplication\n",
      "d. Division\n",
      "Please enter choice (a/ b/ c/ d): a\n",
      "Please enter the first number: 11\n",
      "Please enter the second number: 11\n",
      "11  +  11  =  22\n"
     ]
    }
   ],
   "source": [
    "# Calculator\n",
    "def add(A, B):   \n",
    "   return A + B   \n",
    "def subtract(A, B):   \n",
    "   return PA- B   \n",
    "def multiply(A, B):  \n",
    "   return A * B   \n",
    "def divide(A, B):       \n",
    "   return A / B     \n",
    "print (\"Please select the operation.\")    \n",
    "print (\"a. Addition\")    \n",
    "print (\"b. Subtraction\")    \n",
    "print (\"c. Multiplication\")    \n",
    "print (\"d. Division\")    \n",
    "    \n",
    "choice = input(\"Please enter choice (a/ b/ c/ d): \")    \n",
    "    \n",
    "num_1 = int (input (\"Please enter the first number: \"))    \n",
    "num_2 = int (input (\"Please enter the second number: \"))    \n",
    "    \n",
    "if choice == 'a':    \n",
    "   print (num_1, \" + \", num_2, \" = \", add(num_1, num_2))    \n",
    "    \n",
    "elif choice == 'b':    \n",
    "   print (num_1, \" - \", num_2, \" = \", subtract(num_1, num_2))    \n",
    "    \n",
    "elif choice == 'c':    \n",
    "   print (num1, \" * \", num2, \" = \", multiply(num1, num2))    \n",
    "elif choice == 'd':    \n",
    "   print (num_1, \" / \", num_2, \" = \", divide(num_1, num_2))    \n",
    "else:    \n",
    "   print (\"This is an invalid input\")    \n",
    "   "
   ]
  },
  {
   "cell_type": "code",
   "execution_count": null,
   "id": "6cc5892a",
   "metadata": {},
   "outputs": [],
   "source": []
  }
 ],
 "metadata": {
  "kernelspec": {
   "display_name": "Python 3 (ipykernel)",
   "language": "python",
   "name": "python3"
  },
  "language_info": {
   "codemirror_mode": {
    "name": "ipython",
    "version": 3
   },
   "file_extension": ".py",
   "mimetype": "text/x-python",
   "name": "python",
   "nbconvert_exporter": "python",
   "pygments_lexer": "ipython3",
   "version": "3.11.5"
  }
 },
 "nbformat": 4,
 "nbformat_minor": 5
}
