{
 "cells": [
  {
   "cell_type": "code",
   "execution_count": 1,
   "id": "8d07e2c8",
   "metadata": {},
   "outputs": [
    {
     "name": "stdout",
     "output_type": "stream",
     "text": [
      "\n",
      "To-Do List Program\n",
      "1. Add Task\n",
      "2. Remove Task\n",
      "3. View Tasks\n",
      "4. Quit\n",
      "Enter your choice: 3\n",
      "No tasks in the to-do list.\n",
      "\n",
      "To-Do List Program\n",
      "1. Add Task\n",
      "2. Remove Task\n",
      "3. View Tasks\n",
      "4. Quit\n",
      "Enter your choice: 4\n",
      "Goodbye!\n"
     ]
    }
   ],
   "source": [
    "tasks = []\n",
    "\n",
    "# Function to add a task to the to-do list\n",
    "def add_task():\n",
    "    task = input(\"Enter a task: \")\n",
    "    tasks.append(task)\n",
    "    print(\"Task added: \" + task)\n",
    "\n",
    "# Function to remove a task from the to-do list\n",
    "def remove_task():\n",
    "    if len(tasks) == 0:\n",
    "        print(\"No tasks to remove.\")\n",
    "    else:\n",
    "        print(\"Current tasks:\")\n",
    "        for i, task in enumerate(tasks):\n",
    "            print(f\"{i + 1}. {task}\")\n",
    "        try:\n",
    "            task_number = int(input(\"Enter the number of the task to remove:\"))\n",
    "            if 1 <= task_number <= len(tasks):\n",
    "                removed_task = tasks.pop(task_number - 1)\n",
    "                print(\"Task removed: \" + removed_task)\n",
    "            else:\n",
    "                print(\"Invalid task number.\")\n",
    "        except ValueError:\n",
    "            print(\"Invalid input. Please enter a number.\")\n",
    "\n",
    "# Function to display the to-do list\n",
    "def view_tasks():\n",
    "    if len(tasks) == 0:\n",
    "        print(\"No tasks in the to-do list.\")\n",
    "    else:\n",
    "        print(\"To-Do List:\")\n",
    "        for i, task in enumerate(tasks):\n",
    "            print(f\"{i + 1}. {task}\")\n",
    "\n",
    "# Main program loop\n",
    "while True:\n",
    "    print(\"\\nTo-Do List Program\")\n",
    "    print(\"1. Add Task\")\n",
    "    print(\"2. Remove Task\")\n",
    "    print(\"3. View Tasks\")\n",
    "    print(\"4. Quit\")\n",
    "\n",
    "    choice = input(\"Enter your choice: \")\n",
    "\n",
    "    if choice == \"1\":\n",
    "        add_task()\n",
    "    elif choice == \"2\":\n",
    "        remove_task()\n",
    "    elif choice == \"3\":\n",
    "        view_tasks()\n",
    "    elif choice == \"4\":\n",
    "        print(\"Goodbye!\")\n",
    "        break\n",
    "    else:\n",
    "        print(\"Invalid choice. Please try again.\")"
   ]
  },
  {
   "cell_type": "code",
   "execution_count": null,
   "id": "4733abb0",
   "metadata": {},
   "outputs": [],
   "source": []
  }
 ],
 "metadata": {
  "kernelspec": {
   "display_name": "Python 3 (ipykernel)",
   "language": "python",
   "name": "python3"
  },
  "language_info": {
   "codemirror_mode": {
    "name": "ipython",
    "version": 3
   },
   "file_extension": ".py",
   "mimetype": "text/x-python",
   "name": "python",
   "nbconvert_exporter": "python",
   "pygments_lexer": "ipython3",
   "version": "3.11.5"
  }
 },
 "nbformat": 4,
 "nbformat_minor": 5
}
